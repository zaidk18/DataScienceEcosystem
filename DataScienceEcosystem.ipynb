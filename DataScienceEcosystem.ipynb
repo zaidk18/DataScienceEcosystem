{
 "cells": [
  {
   "cell_type": "markdown",
   "id": "eaeb33a7-2d33-494a-8538-0108482a27b1",
   "metadata": {},
   "source": [
    "# Data Science Tools and Ecosystem"
   ]
  },
  {
   "cell_type": "markdown",
   "id": "34b2c348-9c37-4b44-a360-9771343bf5bf",
   "metadata": {},
   "source": [
    " In this notebook, Data Science Tools and Ecosystem are summarized."
   ]
  },
  {
   "cell_type": "markdown",
   "id": "3c5fef72-d522-4053-9d93-875e78a2c6aa",
   "metadata": {},
   "source": [
    " Some of the popular languages that Data Scientists use are:\n",
    "\n",
    "1. Python\n",
    "2. R\n",
    "3. SQL"
   ]
  },
  {
   "cell_type": "markdown",
   "id": "e9287765-9f78-44ea-8457-f59d16f645ea",
   "metadata": {},
   "source": [
    "__objectives:__\n",
    "\n",
    "- SQL\n",
    "- R\n",
    "- Python\n",
    "- Julia\n",
    "- Scala\n",
    "\n",
    "\n"
   ]
  },
  {
   "cell_type": "markdown",
   "id": "f27f03be-0c3e-4a1a-8bb6-aaeb496d55a9",
   "metadata": {},
   "source": [
    "Some of the commonly used libraries used by Data Scientists include:\n",
    "\n",
    "1. NumPy\n",
    "2. Pandas\n",
    "3. Matplotlib\n",
    "4. SciPy \n"
   ]
  },
  {
   "cell_type": "markdown",
   "id": "782f67ec-3cf2-44d0-99cc-d53872c3812b",
   "metadata": {},
   "source": [
    "|Data Science Tools|\n",
    "|-------------------------------------------------|\n",
    "|Jupyter Notebooks|\n",
    "|R Studio’s|\n",
    "|Zeppelin Notebooks|\n"
   ]
  },
  {
   "cell_type": "markdown",
   "id": "5c2eed44-65bb-4d7f-b2c5-95b3953727c9",
   "metadata": {},
   "source": [
    "### Below are a few examples of evaluating arithmetic expressions in Python"
   ]
  },
  {
   "cell_type": "code",
   "execution_count": 15,
   "id": "1ebfcce1-b653-4d7a-9395-bad722641c22",
   "metadata": {},
   "outputs": [
    {
     "data": {
      "text/plain": [
       "17"
      ]
     },
     "execution_count": 15,
     "metadata": {},
     "output_type": "execute_result"
    }
   ],
   "source": [
    "# This a simple arithmetic expression to mutiply then add integers\n",
    "(3*4)+5"
   ]
  },
  {
   "cell_type": "code",
   "execution_count": 28,
   "id": "d74f682c-d5f7-43d9-bef5-30175fd4cb66",
   "metadata": {},
   "outputs": [
    {
     "data": {
      "text/plain": [
       "3.3333333333333335"
      ]
     },
     "execution_count": 28,
     "metadata": {},
     "output_type": "execute_result"
    }
   ],
   "source": [
    "# This will convert 200 minutes to hours by diving by 60\n",
    "200 / 60"
   ]
  },
  {
   "cell_type": "markdown",
   "id": "8b70d740-da37-4d24-a080-6bee03737fa7",
   "metadata": {},
   "source": [
    "## Arthor\n",
    "ZAID EHAB KUTBI"
   ]
  }
 ],
 "metadata": {
  "kernelspec": {
   "display_name": "Python 3 (ipykernel)",
   "language": "python",
   "name": "python3"
  },
  "language_info": {
   "codemirror_mode": {
    "name": "ipython",
    "version": 3
   },
   "file_extension": ".py",
   "mimetype": "text/x-python",
   "name": "python",
   "nbconvert_exporter": "python",
   "pygments_lexer": "ipython3",
   "version": "3.11.7"
  }
 },
 "nbformat": 4,
 "nbformat_minor": 5
}
